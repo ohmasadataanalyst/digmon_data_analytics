{
  "nbformat": 4,
  "nbformat_minor": 0,
  "metadata": {
    "colab": {
      "provenance": [],
      "collapsed_sections": [],
      "authorship_tag": "ABX9TyPZhoByp0Vq7LPfLAL5kR9Q",
      "include_colab_link": true
    },
    "kernelspec": {
      "name": "python3",
      "display_name": "Python 3"
    },
    "language_info": {
      "name": "python"
    }
  },
  "cells": [
    {
      "cell_type": "markdown",
      "metadata": {
        "id": "view-in-github",
        "colab_type": "text"
      },
      "source": [
        "<a href=\"https://colab.research.google.com/github/ohmasadataanalyst/digmon_data_analytics/blob/main/Untitled7.ipynb\" target=\"_parent\"><img src=\"https://colab.research.google.com/assets/colab-badge.svg\" alt=\"Open In Colab\"/></a>"
      ]
    },
    {
      "cell_type": "code",
      "execution_count": null,
      "metadata": {
        "colab": {
          "base_uri": "https://localhost:8080/",
          "height": 1000
        },
        "id": "avIcyXMN5vs7",
        "outputId": "9d24e7ac-8c9e-47ce-c726-0447f4c3829b"
      },
      "outputs": [
        {
          "output_type": "stream",
          "name": "stdout",
          "text": [
            "Number\n",
            "False    249\n",
            "Name: Number, dtype: int64\n",
            "\n",
            "Digimon\n",
            "False    249\n",
            "Name: Digimon, dtype: int64\n",
            "\n",
            "Stage\n",
            "False    249\n",
            "Name: Stage, dtype: int64\n",
            "\n",
            "Type\n",
            "False    249\n",
            "Name: Type, dtype: int64\n",
            "\n",
            "Attribute\n",
            "False    249\n",
            "Name: Attribute, dtype: int64\n",
            "\n",
            "Memory\n",
            "False    249\n",
            "Name: Memory, dtype: int64\n",
            "\n",
            "Equip Slots\n",
            "False    249\n",
            "Name: Equip Slots, dtype: int64\n",
            "\n",
            "Lv 50 HP\n",
            "False    249\n",
            "Name: Lv 50 HP, dtype: int64\n",
            "\n",
            "Lv50 SP\n",
            "False    249\n",
            "Name: Lv50 SP, dtype: int64\n",
            "\n",
            "Lv50 Atk\n",
            "False    249\n",
            "Name: Lv50 Atk, dtype: int64\n",
            "\n",
            "Lv50 Def\n",
            "False    249\n",
            "Name: Lv50 Def, dtype: int64\n",
            "\n",
            "Lv50 Int\n",
            "False    249\n",
            "Name: Lv50 Int, dtype: int64\n",
            "\n",
            "Lv50 Spd\n",
            "False    249\n",
            "Name: Lv50 Spd, dtype: int64\n",
            "\n",
            "Move\n",
            "False    387\n",
            "Name: Move, dtype: int64\n",
            "\n",
            "SP Cost\n",
            "False    387\n",
            "Name: SP Cost, dtype: int64\n",
            "\n",
            "Type\n",
            "False    387\n",
            "Name: Type, dtype: int64\n",
            "\n",
            "Power\n",
            "False    387\n",
            "Name: Power, dtype: int64\n",
            "\n",
            "Attribute\n",
            "False    387\n",
            "Name: Attribute, dtype: int64\n",
            "\n",
            "Inheritable\n",
            "False    387\n",
            "Name: Inheritable, dtype: int64\n",
            "\n",
            "Description\n",
            "False    387\n",
            "Name: Description, dtype: int64\n",
            "\n",
            "Name\n",
            "False    86\n",
            "Name: Name, dtype: int64\n",
            "\n",
            "Description\n",
            "False    86\n",
            "Name: Description, dtype: int64\n",
            "\n",
            "Medium    116\n",
            "Low        91\n",
            "High       42\n",
            "Name: hp-binned, dtype: int64\n"
          ]
        },
        {
          "output_type": "execute_result",
          "data": {
            "text/plain": [
              "(0.0, 26.71883224079513)"
            ]
          },
          "metadata": {},
          "execution_count": 61
        },
        {
          "output_type": "display_data",
          "data": {
            "text/plain": [
              "<Figure size 432x288 with 1 Axes>"
            ],
            "image/png": "[encoded data removed]"
          },
          "metadata": {
            "needs_background": "light"
          }
        }
      ],
      "source": [
        "from pandas.core.arrays.interval import value_counts\n",
        "import pandas as pd\n",
        "import sklearn as sk\n",
        "import matplotlib as plt\n",
        "import seaborn as sns\n",
        "import numpy as np\n",
        "\n",
        "digmon_list= pd.read_csv(\"/content/DigiDB_digimonlist.csv\")\n",
        "move_list=pd.read_csv(\"/content/DigiDB_movelist.csv\")\n",
        "support_list=pd.read_csv(\"/content/DigiDB_supportlist.csv\")\n",
        "# fist we check if the first csv has null values\n",
        "m1=digmon_list.isnull()\n",
        "for column in m1.columns.values.tolist():\n",
        "    print(column)\n",
        "    print (m1[column].value_counts())\n",
        "    print(\"\")    \n",
        "#then we check the second and third csv \n",
        "m2,m3=move_list.isnull(),support_list.isnull()\n",
        "for column in m2.columns.values.tolist():\n",
        "    print(column)\n",
        "    print (m2[column].value_counts())\n",
        "    print(\"\")    \n",
        "for column in m3.columns.values.tolist():\n",
        "    print(column)\n",
        "    print (m3[column].value_counts())\n",
        "    print(\"\") \n",
        "#there is no null values in all CSVs\n",
        "#plt.pyplot.hist(digmon_list['Lv 50 HP'])    \n",
        "\n",
        "\n",
        "#visuzalzing lvl 50 hp based on bins \n",
        "\n",
        "bins = np.linspace(min(digmon_list['Lv 50 HP']), max(digmon_list['Lv 50 HP']), 4)\n",
        "group_names = ['Low', 'Medium', 'High']\n",
        "digmon_list['hp-binned'] = pd.cut(digmon_list['Lv 50 HP'], bins, labels=group_names, include_lowest=True )\n",
        "print(digmon_list['hp-binned'].value_counts())\n",
        "plt.pyplot.bar(group_names,digmon_list['hp-binned'].value_counts())\n",
        "plt.pyplot.xlabel(\"lvl 50 hp\")\n",
        "plt.pyplot.ylabel(\"count\")\n",
        "plt.pyplot.title(\"lvl 50 hp bins\")\n",
        "\n",
        "# making type a dummy variable \n",
        "\n",
        "dummy_1=pd.get_dummies(digmon_list['Type'])\n",
        "#dummy_1.head(30)\n",
        "digmon_list=pd.concat([digmon_list,dummy_1],axis=1)\n",
        "digmon_list.drop(\"Type\", axis= 1 ,inplace=True)\n",
        "#digmon_list.head()\n",
        "dummy_2=pd.get_dummies(digmon_list['Attribute'])\n",
        "digmon_list=pd.concat([digmon_list,dummy_2],axis= 1)\n",
        "\n",
        "\n",
        "\n",
        "#checking correlation for fire attribute digmons\n",
        "digmon_list[['Fire','Lv50 SP','Memory','Lv 50 HP','Lv50 SP',\t'Lv50 Atk',\t'Lv50 Def',\t'Lv50 Int',\t'Lv50 Spd']].corr()\n",
        "\n",
        "# i discovred there is a good correlation between memory and lvl 50 speed so lets investgate more \n",
        "sns.regplot(x=\"Lv50 SP\", y=\"Memory\", data=digmon_list)\n",
        "plt.pyplot.ylim(0,)\n",
        "\n",
        "# lets try boxplotting attributes and memory\n",
        "\n",
        "#sns.boxplot(x=\"Attribute\",y=\"Memory\",data=digmon_list)\n",
        "\n"
      ]
    },
    {
      "cell_type": "code",
      "source": [],
      "metadata": {
        "id": "g4tUzAXd6wmd"
      },
      "execution_count": null,
      "outputs": []
    }
  ]
}